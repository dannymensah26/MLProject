{
 "cells": [
  {
   "cell_type": "markdown",
   "metadata": {},
   "source": [
    "# Lab 2 - Decision Theory in Machine Learning\n",
    "\n",
    "Welcome to this week's lab on Decision Theory! This week, we are going to explore the basics of making decisions using simple and intuitive examples. Ads we have not yet started discussing neural networks, there is no need for deep knowledge in machine learning or neural networks here. We are focusing on the core principles that underlie decision-making in computational systems.\n",
    "\n",
    "## Objectives\n",
    "\n",
    "1. Understand the fundamentals of Decision Theory.\n",
    "2. Apply Decision Theory to solve simple problems.\n",
    "3. Develop the skills to implement basic decision-making systems."
   ]
  },
  {
   "cell_type": "markdown",
   "metadata": {},
   "source": [
    "## Part 1: Choosing a Vacation Destination\n",
    "\n",
    "In this example, we will decide on a vacation destination based on various factors like cost, distance, and activities."
   ]
  },
  {
   "cell_type": "markdown",
   "metadata": {},
   "source": [
    "### Step 1: Define the Problem\n",
    "\n",
    "Let's define the problem:\n",
    "- We have 3 vacation destinations: Beach, Mountain, and City.\n",
    "- Each destination is evaluated based on three criteria: cost (low, medium, high), distance (near, far), and activities (few, many)."
   ]
  },
  {
   "cell_type": "markdown",
   "metadata": {},
   "source": [
    "### Step 2: Create the Decision Matrix\n",
    "\n",
    "One approach to tackle such problems is to create a Decision Matrix! A Dcision Matrix for this problem can be created as below:"
   ]
  },
  {
   "cell_type": "code",
   "execution_count": 2,
   "metadata": {},
   "outputs": [],
   "source": [
    "import pandas as pd\n",
    "\n",
    "# Define the decision matrix\n",
    "data = {\n",
    "    'Cost': ['Low', 'High', 'Medium'],\n",
    "    'Distance': ['Near', 'Far', 'Near'],\n",
    "    'Activities': ['Many', 'Few', 'Many']\n",
    "}\n",
    "destinations = pd.DataFrame(data, index=['Beach', 'Mountain', 'City'])"
   ]
  },
  {
   "cell_type": "code",
   "execution_count": 3,
   "metadata": {},
   "outputs": [
    {
     "data": {
      "text/plain": [
       "{'Cost': ['Low', 'High', 'Medium'],\n",
       " 'Distance': ['Near', 'Far', 'Near'],\n",
       " 'Activities': ['Many', 'Few', 'Many']}"
      ]
     },
     "execution_count": 3,
     "metadata": {},
     "output_type": "execute_result"
    }
   ],
   "source": [
    "data"
   ]
  },
  {
   "cell_type": "markdown",
   "metadata": {},
   "source": [
    "### Step 3: Apply Decision Rules\n",
    "\n",
    "We can create a simple scoring system for each criterion (e.g., Low Cost = 3 points, High Cost = 1 point). Then we can calculate the total score for each destination."
   ]
  },
  {
   "cell_type": "code",
   "execution_count": 42,
   "metadata": {},
   "outputs": [],
   "source": [
    "# Decision rules as functions\n",
    "def cost_score(cost):\n",
    "    if cost == 'Low':\n",
    "        return 3\n",
    "    elif cost == 'Medium':\n",
    "        return 2\n",
    "    else:\n",
    "        return 1\n",
    "\n",
    "def distance_score(distance):\n",
    "    return 3 if distance == 'Near' else 1\n",
    "\n",
    "def activities_score(activities):\n",
    "    return 3 if activities == 'Many' else 1"
   ]
  },
  {
   "cell_type": "markdown",
   "metadata": {},
   "source": [
    "### Step 4: Make a Decision\n",
    "\n",
    "Now, we are ready to make a decision on which destination to choose based on the highest score."
   ]
  },
  {
   "cell_type": "code",
   "execution_count": 5,
   "metadata": {},
   "outputs": [
    {
     "data": {
      "text/html": [
       "<div>\n",
       "<style scoped>\n",
       "    .dataframe tbody tr th:only-of-type {\n",
       "        vertical-align: middle;\n",
       "    }\n",
       "\n",
       "    .dataframe tbody tr th {\n",
       "        vertical-align: top;\n",
       "    }\n",
       "\n",
       "    .dataframe thead th {\n",
       "        text-align: right;\n",
       "    }\n",
       "</style>\n",
       "<table border=\"1\" class=\"dataframe\">\n",
       "  <thead>\n",
       "    <tr style=\"text-align: right;\">\n",
       "      <th></th>\n",
       "      <th>Cost</th>\n",
       "      <th>Distance</th>\n",
       "      <th>Activities</th>\n",
       "      <th>Total Score</th>\n",
       "    </tr>\n",
       "  </thead>\n",
       "  <tbody>\n",
       "    <tr>\n",
       "      <th>Beach</th>\n",
       "      <td>Low</td>\n",
       "      <td>Near</td>\n",
       "      <td>Many</td>\n",
       "      <td>9</td>\n",
       "    </tr>\n",
       "    <tr>\n",
       "      <th>Mountain</th>\n",
       "      <td>High</td>\n",
       "      <td>Far</td>\n",
       "      <td>Few</td>\n",
       "      <td>3</td>\n",
       "    </tr>\n",
       "    <tr>\n",
       "      <th>City</th>\n",
       "      <td>Medium</td>\n",
       "      <td>Near</td>\n",
       "      <td>Many</td>\n",
       "      <td>8</td>\n",
       "    </tr>\n",
       "  </tbody>\n",
       "</table>\n",
       "</div>"
      ],
      "text/plain": [
       "            Cost Distance Activities  Total Score\n",
       "Beach        Low     Near       Many            9\n",
       "Mountain    High      Far        Few            3\n",
       "City      Medium     Near       Many            8"
      ]
     },
     "execution_count": 5,
     "metadata": {},
     "output_type": "execute_result"
    }
   ],
   "source": [
    "# Calculate scores\n",
    "destinations['Total Score'] = destinations.apply(lambda x: cost_score(x['Cost']) + distance_score(x['Distance']) + activities_score(x['Activities']), axis=1)\n",
    "\n",
    "# Display the result\n",
    "destinations"
   ]
  },
  {
   "cell_type": "markdown",
   "metadata": {},
   "source": [
    "## Part 2: Choosing a Smartphone\n",
    "\n",
    "Your task is to choose a smartphone based on different criteria like price, battery life, and camera quality.\n",
    "\n",
    "Tasks\n",
    "Define your criteria for selecting a smartphone.\n",
    "Set up a decision matrix for different smartphone options.\n",
    "Apply decision rules to score each smartphone.\n",
    "Make a decision based on the highest score.\n",
    "Guidelines\n",
    "Think about the factors that are most important to you in a smartphone.\n",
    "Be creative in defining your scoring system."
   ]
  },
  {
   "cell_type": "markdown",
   "metadata": {},
   "source": [
    "### Task 1: Criteria\n",
    "Define your criteria for selecting a smartphone."
   ]
  },
  {
   "cell_type": "markdown",
   "metadata": {},
   "source": [
    "# Your code and/or explanation goes here\n",
    "\n",
    "The problem is defined as explained below:\n",
    "\n",
    "In this problem, we have 4 types of smartphones: iPhone, Android, Windows, and Amazon Fire Phone.\n",
    "\n",
    "The reason for selecting/choosing a smartphone is based on three criteria below: \n",
    "\n",
    "Price (low, medium, high), \n",
    "\n",
    "Battery life (long, short), \n",
    "\n",
    "Camera quality (good, bad)."
   ]
  },
  {
   "cell_type": "markdown",
   "metadata": {},
   "source": [
    "### Task 2: Decision Matrix\n",
    "Set up a decision matrix for different smartphone options."
   ]
  },
  {
   "cell_type": "code",
   "execution_count": 38,
   "metadata": {},
   "outputs": [],
   "source": [
    "# Your code goes here\n",
    "import pandas as pd\n",
    "\n",
    "# Define the decision matrix\n",
    "data = {\n",
    "    'Price': ['High', 'Medium', 'Medium', 'Low'],\n",
    "    'Battery Life': ['Long', 'Long', 'Short', 'Short'],\n",
    "    'Camera Quality': ['Good', 'Good', 'Bad', 'Good']\n",
    "}\n",
    "smartphones = pd.DataFrame(data, index=['iPhone', 'Android', 'Windows', 'Amazon Fire Phone'])"
   ]
  },
  {
   "cell_type": "code",
   "execution_count": 39,
   "metadata": {},
   "outputs": [
    {
     "data": {
      "text/plain": [
       "{'Price': ['High', 'Medium', 'Medium', 'Low'],\n",
       " 'Battery Life': ['Long', 'Long', 'Short', 'Short'],\n",
       " 'Camera Quality': ['Good', 'Good', 'Bad', 'Good']}"
      ]
     },
     "execution_count": 39,
     "metadata": {},
     "output_type": "execute_result"
    }
   ],
   "source": [
    "data"
   ]
  },
  {
   "cell_type": "markdown",
   "metadata": {},
   "source": [
    "### Task 3: Apply Decision Rules\n",
    "Applying decision rules to score each smartphone:\n",
    "\n",
    "#### Create a simple scoring system for each criterion\n",
    "\n",
    "Price -  Low Price = 3 points, Medium = 2 points, High Price = 1 point\n",
    "\n",
    "Battery Life - Good = 3 points,  Bad = 1 point\n",
    "\n",
    "Camer Quality - Good = 3 points, Bad =1 point\n",
    "\n",
    "Then the total score for each smartphone is calculated"
   ]
  },
  {
   "cell_type": "code",
   "execution_count": 43,
   "metadata": {},
   "outputs": [],
   "source": [
    "# Your code goes here\n",
    "# Decision rules as functions\n",
    "def price_score(Price):\n",
    "    if Price == 'Low':\n",
    "        return 3\n",
    "    elif Price == 'Medium':\n",
    "        return 2\n",
    "    else:\n",
    "        return 1\n",
    "\n",
    "def BatteryLife_score(Battery_Life):\n",
    "    return 3 if Battery_Life == 'Long' else 1\n",
    "\n",
    "def CameraQuality_score(Camera_Quality):\n",
    "    return 3 if Camera_Quality == 'Good' else 1"
   ]
  },
  {
   "cell_type": "markdown",
   "metadata": {},
   "source": [
    "### Task 4: Final Decision\n",
    "Make a decision based on the smartphone to select based on the highest score.\n"
   ]
  },
  {
   "cell_type": "code",
   "execution_count": 44,
   "metadata": {},
   "outputs": [
    {
     "data": {
      "text/html": [
       "<div>\n",
       "<style scoped>\n",
       "    .dataframe tbody tr th:only-of-type {\n",
       "        vertical-align: middle;\n",
       "    }\n",
       "\n",
       "    .dataframe tbody tr th {\n",
       "        vertical-align: top;\n",
       "    }\n",
       "\n",
       "    .dataframe thead th {\n",
       "        text-align: right;\n",
       "    }\n",
       "</style>\n",
       "<table border=\"1\" class=\"dataframe\">\n",
       "  <thead>\n",
       "    <tr style=\"text-align: right;\">\n",
       "      <th></th>\n",
       "      <th>Price</th>\n",
       "      <th>Battery Life</th>\n",
       "      <th>Camera Quality</th>\n",
       "      <th>Total Score</th>\n",
       "    </tr>\n",
       "  </thead>\n",
       "  <tbody>\n",
       "    <tr>\n",
       "      <th>iPhone</th>\n",
       "      <td>High</td>\n",
       "      <td>Long</td>\n",
       "      <td>Good</td>\n",
       "      <td>7</td>\n",
       "    </tr>\n",
       "    <tr>\n",
       "      <th>Android</th>\n",
       "      <td>Medium</td>\n",
       "      <td>Long</td>\n",
       "      <td>Good</td>\n",
       "      <td>8</td>\n",
       "    </tr>\n",
       "    <tr>\n",
       "      <th>Windows</th>\n",
       "      <td>Medium</td>\n",
       "      <td>Short</td>\n",
       "      <td>Bad</td>\n",
       "      <td>4</td>\n",
       "    </tr>\n",
       "    <tr>\n",
       "      <th>Amazon Fire Phone</th>\n",
       "      <td>Low</td>\n",
       "      <td>Short</td>\n",
       "      <td>Good</td>\n",
       "      <td>7</td>\n",
       "    </tr>\n",
       "  </tbody>\n",
       "</table>\n",
       "</div>"
      ],
      "text/plain": [
       "                    Price Battery Life Camera Quality  Total Score\n",
       "iPhone               High         Long           Good            7\n",
       "Android            Medium         Long           Good            8\n",
       "Windows            Medium        Short            Bad            4\n",
       "Amazon Fire Phone     Low        Short           Good            7"
      ]
     },
     "execution_count": 44,
     "metadata": {},
     "output_type": "execute_result"
    }
   ],
   "source": [
    "# Your code goes here\n",
    "# Calculate scores\n",
    "smartphones['Total Score'] = smartphones.apply(lambda x: price_score(x['Price']) + BatteryLife_score(x['Battery Life']) + CameraQuality_score(x['Camera Quality']), axis=1)\n",
    "\n",
    "# Display the result\n",
    "smartphones"
   ]
  },
  {
   "cell_type": "markdown",
   "metadata": {},
   "source": [
    "### Task 5: Evaluation and Reflection\n",
    "#### Write your perspective about Decision Theory. Could the given problem be solved using a different methodology? Explain your answer.\n",
    "\n",
    "Decision theory is a framework for making logical choices under uncertainty. In the context of machine learning, decision theory plays a crucial role in developing algorithms that make predictions or decisions based on data, particularly when the outcomes are uncertain.\n",
    "It involves understanding and systematically analyzing the processes of decision-making. It is used for making rational decisions based on assigning probabilities to various factors and assigning numerical consequences to the outcome. \n",
    "\n",
    "The problem can be solved using Expected utility theory.\n",
    "This framework presents a mathematical model for making decisions under uncertainty, in which the decision-maker assigns probability to various possibilities and assesses the expected utility of each. The decision-maker then selects the alternative that maximizes the expected utility.\n",
    "In machine learning, expected utility theory can be used to create algorithms that make decisions based on uncertain input.\n",
    "\n"
   ]
  },
  {
   "cell_type": "markdown",
   "metadata": {},
   "source": [
    "## Submission\n",
    "Submit a link to your completed Jupyter Notebook file hosted on your private GitHub repository through the submission link in Blackboard."
   ]
  }
 ],
 "metadata": {
  "kernelspec": {
   "display_name": "Python 3 (ipykernel)",
   "language": "python",
   "name": "python3"
  },
  "language_info": {
   "codemirror_mode": {
    "name": "ipython",
    "version": 3
   },
   "file_extension": ".py",
   "mimetype": "text/x-python",
   "name": "python",
   "nbconvert_exporter": "python",
   "pygments_lexer": "ipython3",
   "version": "3.8.18"
  }
 },
 "nbformat": 4,
 "nbformat_minor": 4
}
